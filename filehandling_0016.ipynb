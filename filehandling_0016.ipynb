{
  "nbformat": 4,
  "nbformat_minor": 0,
  "metadata": {
    "colab": {
      "provenance": [],
      "include_colab_link": true
    },
    "kernelspec": {
      "name": "python3",
      "display_name": "Python 3"
    },
    "language_info": {
      "name": "python"
    }
  },
  "cells": [
    {
      "cell_type": "markdown",
      "metadata": {
        "id": "view-in-github",
        "colab_type": "text"
      },
      "source": [
        "<a href=\"https://colab.research.google.com/github/brsubash/SUBASH/blob/main/filehandling_0016.ipynb\" target=\"_parent\"><img src=\"https://colab.research.google.com/assets/colab-badge.svg\" alt=\"Open In Colab\"/></a>"
      ]
    },
    {
      "cell_type": "markdown",
      "source": [
        "OPENING A FILE"
      ],
      "metadata": {
        "id": "5fGxfosIchAy"
      }
    },
    {
      "cell_type": "code",
      "execution_count": null,
      "metadata": {
        "id": "euNsXTtUW04u"
      },
      "outputs": [],
      "source": [
        "F1 = open(\"/content/sample_data/demo.txt\",\"r\") #Open File from Current Directory"
      ]
    },
    {
      "cell_type": "markdown",
      "source": [
        "WRITING A FILE"
      ],
      "metadata": {
        "id": "CL_pljo2dmXi"
      }
    },
    {
      "cell_type": "code",
      "source": [
        "def main():\n",
        "  obj1 = open(\"/content/sample_data/demo.txt\", \"w\") #Opens a file in Write mode\n",
        "  obj1.write(\"Hello, How are you? \\n\")\n",
        "  obj1.write(\"Welcome to The File Handling. \\n\")\n",
        "  obj1.write(\"Enjoy the session. \\n\")\n",
        "\n",
        "\n",
        "main()"
      ],
      "metadata": {
        "id": "XXO2-deGYBuL"
      },
      "execution_count": null,
      "outputs": []
    },
    {
      "cell_type": "markdown",
      "source": [
        "CLOSING A FILE"
      ],
      "metadata": {
        "id": "urIWClEudq2i"
      }
    },
    {
      "cell_type": "code",
      "source": [
        "fp1 = open(\"/content/sample_data/demo.txt\",\"w\")"
      ],
      "metadata": {
        "id": "7xHO7oznYb-K"
      },
      "execution_count": null,
      "outputs": []
    },
    {
      "cell_type": "code",
      "source": [
        "fp1.close()"
      ],
      "metadata": {
        "id": "sXzhGDABYb7T"
      },
      "execution_count": null,
      "outputs": []
    },
    {
      "cell_type": "markdown",
      "source": [
        "WRITE NUMBERS FROM 1 TO  20TO OUTPUT FILE WRITENUMBERS.TXT"
      ],
      "metadata": {
        "id": "7k9zox1ec7HS"
      }
    },
    {
      "cell_type": "code",
      "source": [
        "def main():\n",
        "  obj1 = open(\"/content/sample_data/Number (2).txt\",\"w\") #Open File in Write mode\n",
        "  for x in range(1,21):   #Iterates from 1 to 20\n",
        "    x=str(x)              #Convert Number to String\n",
        "    obj1.write(x)         #Write Number to a output file\n",
        "    obj1.write(\"\\n\")      #Space to separate Numbers\n",
        "  obj1.close()            #Close File\n",
        "\n",
        "main()"
      ],
      "metadata": {
        "id": "QrF7LBgHYb4j"
      },
      "execution_count": null,
      "outputs": []
    },
    {
      "cell_type": "code",
      "source": [
        "from random import randint\n",
        "fp1 = open(\"/content/sample_data/writerandom.txt\",\"w\")\n",
        "for x in range(51):\n",
        "  x = randint(500,1000)\n",
        "  x = str(x)\n",
        "  fp1.write(x + \" \")\n",
        "\n",
        "fp1.close()"
      ],
      "metadata": {
        "id": "TSWa1yZkZ0aM"
      },
      "execution_count": null,
      "outputs": []
    },
    {
      "cell_type": "code",
      "source": [
        "fp = open(\"/content/sample_data/demo.txt\",\"r\")\n",
        "text = fp.read()\n",
        "print(text)"
      ],
      "metadata": {
        "colab": {
          "base_uri": "https://localhost:8080/"
        },
        "id": "XwR0y0HIaRc6",
        "outputId": "44f548df-e3e8-41cc-fc68-f07706164a2d"
      },
      "execution_count": null,
      "outputs": [
        {
          "output_type": "stream",
          "name": "stdout",
          "text": [
            "hello\n",
            "welcome to phython lab\n"
          ]
        }
      ]
    },
    {
      "cell_type": "code",
      "source": [
        "fp = open(\"/content/sample_data/demo.txt\",\"r\")\n",
        "for line in fp:\n",
        "  print(line)"
      ],
      "metadata": {
        "id": "J6sxrd6Qa7RS"
      },
      "execution_count": null,
      "outputs": []
    },
    {
      "cell_type": "code",
      "source": [
        "fp1 = open(\"/content/sample_data/Number (2).txt\",\"r\")\n",
        "num = fp1.read()\n",
        "print(num)\n",
        "print(type(num))\n"
      ],
      "metadata": {
        "colab": {
          "base_uri": "https://localhost:8080/"
        },
        "id": "8TDJh0m9a8DS",
        "outputId": "bc20d9e6-db87-40ba-fafd-0047d6c99fc9"
      },
      "execution_count": null,
      "outputs": [
        {
          "output_type": "stream",
          "name": "stdout",
          "text": [
            "1 2 3 4 5 6 7 8 9\n",
            "<class 'str'>\n"
          ]
        }
      ]
    },
    {
      "cell_type": "code",
      "source": [
        "fp1 = open(\"Weekdays.txt\",\"w+\")     #Open file in w+ mode\n",
        "fp1.write(\"Monday\\n\")               #Write to file\n",
        "fp1.write(\"Tuesday\\n\")\n",
        "fp1.write(\"Wednesday\\n\")\n",
        "fp1.write(\"Thursday\\n\")\n",
        "fp1.write(\"Friday\\n\")\n",
        "fp1.seek(0)                         #Set file pointer to start of the file\n",
        "t = fp1.read()                      #Read file from current file pointer till end\n",
        "print(t)\n"
      ],
      "metadata": {
        "colab": {
          "base_uri": "https://localhost:8080/"
        },
        "id": "X6e-20hna74y",
        "outputId": "7bf99e9c-3821-4b5c-fd8e-e832c3d4315a"
      },
      "execution_count": null,
      "outputs": [
        {
          "output_type": "stream",
          "name": "stdout",
          "text": [
            "Monday\n",
            "Tuesday\n",
            "Wednesday\n",
            "Thursday\n",
            "Friday\n",
            "\n"
          ]
        }
      ]
    },
    {
      "cell_type": "code",
      "source": [
        "fp1.seek(0,2)                     #Move file from current file pointer till end\n",
        "fp1.write('Saturday\\n')           #Write at the end of file\n",
        "fp1.write(\"Sunday\\n\")\n",
        "fp1.seek(0)\n",
        "t = fp1.read()\n",
        "print(t)"
      ],
      "metadata": {
        "colab": {
          "base_uri": "https://localhost:8080/"
        },
        "id": "PlWlOB66cWnS",
        "outputId": "1fdee378-0b22-46fe-a832-48d0fbf24ea7"
      },
      "execution_count": null,
      "outputs": [
        {
          "output_type": "stream",
          "name": "stdout",
          "text": [
            "Monday\n",
            "Tuesday\n",
            "Wednesday\n",
            "Thursday\n",
            "Friday\n",
            "Saturday\n",
            "Sunday\n",
            "\n"
          ]
        }
      ]
    },
    {
      "cell_type": "markdown",
      "source": [
        "EXCEPTION HANDLING"
      ],
      "metadata": {
        "id": "wbTJZP9KfQ6y"
      }
    },
    {
      "cell_type": "code",
      "source": [
        "2+'3'"
      ],
      "metadata": {
        "colab": {
          "base_uri": "https://localhost:8080/",
          "height": 141
        },
        "id": "Uw7XJJUWccID",
        "outputId": "c40e191b-5bdd-4178-aaad-313370bb6562"
      },
      "execution_count": null,
      "outputs": [
        {
          "output_type": "error",
          "ename": "TypeError",
          "evalue": "unsupported operand type(s) for +: 'int' and 'str'",
          "traceback": [
            "\u001b[0;31m---------------------------------------------------------------------------\u001b[0m",
            "\u001b[0;31mTypeError\u001b[0m                                 Traceback (most recent call last)",
            "\u001b[0;32m<ipython-input-19-c24d39b239a5>\u001b[0m in \u001b[0;36m<cell line: 1>\u001b[0;34m()\u001b[0m\n\u001b[0;32m----> 1\u001b[0;31m \u001b[0;36m2\u001b[0m\u001b[0;34m+\u001b[0m\u001b[0;34m'3'\u001b[0m\u001b[0;34m\u001b[0m\u001b[0;34m\u001b[0m\u001b[0m\n\u001b[0m",
            "\u001b[0;31mTypeError\u001b[0m: unsupported operand type(s) for +: 'int' and 'str'"
          ]
        }
      ]
    },
    {
      "cell_type": "code",
      "source": [
        "lsst[0]"
      ],
      "metadata": {
        "colab": {
          "base_uri": "https://localhost:8080/",
          "height": 141
        },
        "id": "LyyBRlTJfh5K",
        "outputId": "db026176-7bc8-4829-d714-2c718f59e24f"
      },
      "execution_count": null,
      "outputs": [
        {
          "output_type": "error",
          "ename": "NameError",
          "evalue": "name 'lsst' is not defined",
          "traceback": [
            "\u001b[0;31m---------------------------------------------------------------------------\u001b[0m",
            "\u001b[0;31mNameError\u001b[0m                                 Traceback (most recent call last)",
            "\u001b[0;32m<ipython-input-20-8aa50b6341ff>\u001b[0m in \u001b[0;36m<cell line: 1>\u001b[0;34m()\u001b[0m\n\u001b[0;32m----> 1\u001b[0;31m \u001b[0mlsst\u001b[0m\u001b[0;34m[\u001b[0m\u001b[0;36m0\u001b[0m\u001b[0;34m]\u001b[0m\u001b[0;34m\u001b[0m\u001b[0;34m\u001b[0m\u001b[0m\n\u001b[0m",
            "\u001b[0;31mNameError\u001b[0m: name 'lsst' is not defined"
          ]
        }
      ]
    },
    {
      "cell_type": "code",
      "source": [
        "import math\n",
        "num = int(input('Enter a number: '))\n",
        "print('The factorial of {0} is {1}'.format(num,math.factorial(num)))"
      ],
      "metadata": {
        "colab": {
          "base_uri": "https://localhost:8080/",
          "height": 193
        },
        "id": "_00cOSyhfhrR",
        "outputId": "538d2b8a-d92e-4c6e-bef4-70171bdab1fe"
      },
      "execution_count": null,
      "outputs": [
        {
          "name": "stdout",
          "output_type": "stream",
          "text": [
            "Enter a number: -2\n"
          ]
        },
        {
          "output_type": "error",
          "ename": "ValueError",
          "evalue": "factorial() not defined for negative values",
          "traceback": [
            "\u001b[0;31m---------------------------------------------------------------------------\u001b[0m",
            "\u001b[0;31mValueError\u001b[0m                                Traceback (most recent call last)",
            "\u001b[0;32m<ipython-input-21-837ccad0f022>\u001b[0m in \u001b[0;36m<cell line: 3>\u001b[0;34m()\u001b[0m\n\u001b[1;32m      1\u001b[0m \u001b[0;32mimport\u001b[0m \u001b[0mmath\u001b[0m\u001b[0;34m\u001b[0m\u001b[0;34m\u001b[0m\u001b[0m\n\u001b[1;32m      2\u001b[0m \u001b[0mnum\u001b[0m \u001b[0;34m=\u001b[0m \u001b[0mint\u001b[0m\u001b[0;34m(\u001b[0m\u001b[0minput\u001b[0m\u001b[0;34m(\u001b[0m\u001b[0;34m'Enter a number: '\u001b[0m\u001b[0;34m)\u001b[0m\u001b[0;34m)\u001b[0m\u001b[0;34m\u001b[0m\u001b[0;34m\u001b[0m\u001b[0m\n\u001b[0;32m----> 3\u001b[0;31m \u001b[0mprint\u001b[0m\u001b[0;34m(\u001b[0m\u001b[0;34m'The factorial of {0} is {1}'\u001b[0m\u001b[0;34m.\u001b[0m\u001b[0mformat\u001b[0m\u001b[0;34m(\u001b[0m\u001b[0mnum\u001b[0m\u001b[0;34m,\u001b[0m\u001b[0mmath\u001b[0m\u001b[0;34m.\u001b[0m\u001b[0mfactorial\u001b[0m\u001b[0;34m(\u001b[0m\u001b[0mnum\u001b[0m\u001b[0;34m)\u001b[0m\u001b[0;34m)\u001b[0m\u001b[0;34m)\u001b[0m\u001b[0;34m\u001b[0m\u001b[0;34m\u001b[0m\u001b[0m\n\u001b[0m",
            "\u001b[0;31mValueError\u001b[0m: factorial() not defined for negative values"
          ]
        }
      ]
    },
    {
      "cell_type": "code",
      "source": [
        "import math\n",
        "num = int(input('Enter a number: '))\n",
        "try:\n",
        "  print('The factorial of {0} is {1}'.format(num,math.factorial(num)))\n",
        "except ValueError:\n",
        "  print('Cannot compute factorial for negative number')"
      ],
      "metadata": {
        "colab": {
          "base_uri": "https://localhost:8080/"
        },
        "id": "GSQmDjn_gONh",
        "outputId": "a7bbded5-1378-4e70-f8ca-0a8c357cf1c6"
      },
      "execution_count": null,
      "outputs": [
        {
          "output_type": "stream",
          "name": "stdout",
          "text": [
            "Enter a number: -8\n",
            "Cannot compute factorial for negative number\n"
          ]
        }
      ]
    },
    {
      "cell_type": "code",
      "source": [
        "import math\n",
        "\n",
        "num = int(input('Enter a number: '))\n",
        "valid_inp = False\n",
        "\n",
        "while not valid_inp:                  # !F -> T\n",
        "  try:\n",
        "    print('The factorial of {0} is {1}'.format(num,math.factorial(num)))\n",
        "    valid_inp = True\n",
        "\n",
        "  except ValueError:\n",
        "    print('Cannot compute factorial for negative number')\n",
        "    num = int(input('Please RE-ENTER'))"
      ],
      "metadata": {
        "colab": {
          "base_uri": "https://localhost:8080/"
        },
        "id": "AyN-82e7gUYi",
        "outputId": "346e8790-bba4-4259-fe03-65cff7c155ef"
      },
      "execution_count": null,
      "outputs": [
        {
          "output_type": "stream",
          "name": "stdout",
          "text": [
            "Enter a number: -12\n",
            "Cannot compute factorial for negative number\n",
            "Please RE-ENTER8\n",
            "The factorial of 8 is 40320\n"
          ]
        }
      ]
    },
    {
      "cell_type": "markdown",
      "source": [
        "HANDLING EXPECTION RAISED BY USER DEFINED FUNCTIONS"
      ],
      "metadata": {
        "id": "s-Kq-yYZggpY"
      }
    },
    {
      "cell_type": "code",
      "source": [
        "def getMonth():\n",
        "  month = int(input('Enter a month (1-12)'))\n",
        "  if month < 1 or month > 12:\n",
        "    raise ValueError('Invalid Month Value')\n",
        "  return month\n",
        "\n",
        "m = getMonth()\n",
        "print(m)"
      ],
      "metadata": {
        "colab": {
          "base_uri": "https://localhost:8080/",
          "height": 332
        },
        "id": "1eBM5PFVgdJ5",
        "outputId": "22c23e1f-30b9-46e3-8761-cee140c34a27"
      },
      "execution_count": null,
      "outputs": [
        {
          "name": "stdout",
          "output_type": "stream",
          "text": [
            "Enter a month (1-12)13\n"
          ]
        },
        {
          "output_type": "error",
          "ename": "ValueError",
          "evalue": "Invalid Month Value",
          "traceback": [
            "\u001b[0;31m---------------------------------------------------------------------------\u001b[0m",
            "\u001b[0;31mValueError\u001b[0m                                Traceback (most recent call last)",
            "\u001b[0;32m<ipython-input-24-da265c205f87>\u001b[0m in \u001b[0;36m<cell line: 7>\u001b[0;34m()\u001b[0m\n\u001b[1;32m      5\u001b[0m   \u001b[0;32mreturn\u001b[0m \u001b[0mmonth\u001b[0m\u001b[0;34m\u001b[0m\u001b[0;34m\u001b[0m\u001b[0m\n\u001b[1;32m      6\u001b[0m \u001b[0;34m\u001b[0m\u001b[0m\n\u001b[0;32m----> 7\u001b[0;31m \u001b[0mm\u001b[0m \u001b[0;34m=\u001b[0m \u001b[0mgetMonth\u001b[0m\u001b[0;34m(\u001b[0m\u001b[0;34m)\u001b[0m\u001b[0;34m\u001b[0m\u001b[0;34m\u001b[0m\u001b[0m\n\u001b[0m\u001b[1;32m      8\u001b[0m \u001b[0mprint\u001b[0m\u001b[0;34m(\u001b[0m\u001b[0mm\u001b[0m\u001b[0;34m)\u001b[0m\u001b[0;34m\u001b[0m\u001b[0;34m\u001b[0m\u001b[0m\n",
            "\u001b[0;32m<ipython-input-24-da265c205f87>\u001b[0m in \u001b[0;36mgetMonth\u001b[0;34m()\u001b[0m\n\u001b[1;32m      2\u001b[0m   \u001b[0mmonth\u001b[0m \u001b[0;34m=\u001b[0m \u001b[0mint\u001b[0m\u001b[0;34m(\u001b[0m\u001b[0minput\u001b[0m\u001b[0;34m(\u001b[0m\u001b[0;34m'Enter a month (1-12)'\u001b[0m\u001b[0;34m)\u001b[0m\u001b[0;34m)\u001b[0m\u001b[0;34m\u001b[0m\u001b[0;34m\u001b[0m\u001b[0m\n\u001b[1;32m      3\u001b[0m   \u001b[0;32mif\u001b[0m \u001b[0mmonth\u001b[0m \u001b[0;34m<\u001b[0m \u001b[0;36m1\u001b[0m \u001b[0;32mor\u001b[0m \u001b[0mmonth\u001b[0m \u001b[0;34m>\u001b[0m \u001b[0;36m12\u001b[0m\u001b[0;34m:\u001b[0m\u001b[0;34m\u001b[0m\u001b[0;34m\u001b[0m\u001b[0m\n\u001b[0;32m----> 4\u001b[0;31m     \u001b[0;32mraise\u001b[0m \u001b[0mValueError\u001b[0m\u001b[0;34m(\u001b[0m\u001b[0;34m'Invalid Month Value'\u001b[0m\u001b[0;34m)\u001b[0m\u001b[0;34m\u001b[0m\u001b[0;34m\u001b[0m\u001b[0m\n\u001b[0m\u001b[1;32m      5\u001b[0m   \u001b[0;32mreturn\u001b[0m \u001b[0mmonth\u001b[0m\u001b[0;34m\u001b[0m\u001b[0;34m\u001b[0m\u001b[0m\n\u001b[1;32m      6\u001b[0m \u001b[0;34m\u001b[0m\u001b[0m\n",
            "\u001b[0;31mValueError\u001b[0m: Invalid Month Value"
          ]
        }
      ]
    },
    {
      "cell_type": "markdown",
      "source": [
        "  SERVER"
      ],
      "metadata": {
        "id": "6w0NtZZPg2SB"
      }
    },
    {
      "cell_type": "code",
      "source": [
        "# server.py\n",
        "# Importing neccessary inbuilt modules\n",
        "import socket\n",
        "import random\n",
        "import string\n",
        "\n",
        "# Creating a socket instance\n",
        "server_object = socket.socket(family=socket.AF_INET, type=socket.SOCK_STREAM)\n",
        "\n",
        "# Connecting to the localhost\n",
        "ip_address = '127.0.0.1'\n",
        "port = 5555\n",
        "server_object.bind((ip_address, port))\n",
        "server_object.listen()\n",
        "\n",
        "#Once the client connects to the particular port, the server starts to accept the request.\n",
        "connection_object, _ = server_object.accept()\n",
        "\n",
        "\n",
        "if connection_object:\n",
        "\t# Connected to client successfully\n",
        "    print(\"SERVER CONNECTED TO CLIENT\")\n",
        "\n",
        "    # sending initial message to the client\n",
        "    connection_object.send(b\"type the message\")\n",
        "\n",
        "    # receiving message from the client\n",
        "    data_receive = connection_object.recv(1024)\n",
        "\n",
        "    while data_receive != b'stop':\n",
        "        print(\"{}: {}\".format(\"CLIENT MESSAGE: \", data_receive.decode('utf-8')))\n",
        "        server_input = random.choice(string.ascii_letters)\n",
        "        connection_object.send(server_input.encode('utf-8'))\n",
        "        data_receive = connection_object.recv(1024)"
      ],
      "metadata": {
        "collapsed": true,
        "id": "MJ1rydRug4E5"
      },
      "execution_count": null,
      "outputs": []
    },
    {
      "cell_type": "markdown",
      "source": [
        "CLIENT"
      ],
      "metadata": {
        "id": "_33_6XcUhKwx"
      }
    },
    {
      "cell_type": "code",
      "source": [
        "# client.py\n",
        "\n",
        "#importing socket module\n",
        "import socket\n",
        "\n",
        "# creating socket instance\n",
        "client_object = socket.socket(family=socket.AF_INET, type=socket.SOCK_STREAM)\n",
        "\n",
        "# target ip address and port\n",
        "ip_address = '127.0.0.1'\n",
        "port = 5555\n",
        "\n",
        "# instance requesting for connection to the specified address and port\n",
        "client_object.connect((ip_address,port))\n",
        "\n",
        "# receiving response from server\n",
        "data_receive = client_object.recv(1024)\n",
        "\n",
        "# if response is not null\n",
        "if data_receive:\n",
        "\t# Connection is successful\n",
        "    print(\"CLIENT CONNECTED TO SERVER\")\n",
        "    print(data_receive.decode('utf-8'))\n",
        "\n",
        "\n",
        "    while data_receive:\n",
        "    \t# user input\n",
        "        client_input = input().encode('utf-8')\n",
        "\n",
        "        # sending request to the server\n",
        "        client_object.send(client_input)\n",
        "\n",
        "        # receiving response from the server\n",
        "        data_receive = client_object.recv(1024)\n",
        "        if data_receive:\n",
        "            print(\"{}: {}\".format(\"SERVER\",data_receive.decode('utf-8')))"
      ],
      "metadata": {
        "id": "YDQ3t4OGg4vJ"
      },
      "execution_count": null,
      "outputs": []
    },
    {
      "cell_type": "code",
      "source": [
        "import requests\n",
        "\n",
        "# The API endpoint\n",
        "url = \"https://jsonplaceholder.typicode.com/posts/1\"\n",
        "\n",
        "# A GET request to the API\n",
        "response = requests.get(url)\n",
        "\n",
        "# Print the response\n",
        "response_json = response.json()\n",
        "print(response_json)\n",
        "\n",
        "\"\"\"\n",
        "{'userId': 1, 'id': 1, 'title': 'sunt aut facere repellat provident occaecati excepturi optio reprehenderit', 'body': 'quia et suscipit\\nsuscipit recusandae consequuntur expedita et cum\\nreprehenderit molestiae ut ut quas totam\\nnostrum rerum est autem sunt rem eveniet architecto'}\n",
        "\"\"\""
      ],
      "metadata": {
        "id": "01lgOgobjJDi"
      },
      "execution_count": null,
      "outputs": []
    },
    {
      "cell_type": "code",
      "source": [
        "# Define new data to create\n",
        "new_data = {\n",
        "    \"userID\": 1,\n",
        "    \"id\": 1,\n",
        "    \"title\": \"Making a POST request\",\n",
        "    \"body\": \"This is the data we created.\"\n",
        "}\n",
        "\n",
        "# The API endpoint to communicate with\n",
        "url_post = \"https://jsonplaceholder.typicode.com/posts\"\n",
        "\n",
        "# A POST request to tthe API\n",
        "post_response = requests.post(url_post, json=new_data)\n",
        "\n",
        "# Print the response\n",
        "post_response_json = post_response.json()\n",
        "print(post_response_json)\n",
        "\n",
        "\"\"\"\n",
        "{'userID': 1, 'id': 101, 'title': 'Making a POST request', 'body': 'This is the data we created.'}\n",
        "\"\"\""
      ],
      "metadata": {
        "id": "PBr0QvW0iaKE"
      },
      "execution_count": null,
      "outputs": []
    }
  ]
}